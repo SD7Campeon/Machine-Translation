{
 "cells": [
  {
   "cell_type": "code",
   "execution_count": 1,
   "metadata": {
    "colab": {
     "base_uri": "https://localhost:8080/",
     "height": 129
    },
    "colab_type": "code",
    "executionInfo": {
     "elapsed": 37934,
     "status": "ok",
     "timestamp": 1571094153611,
     "user": {
      "displayName": "Tu Ngo",
      "photoUrl": "",
      "userId": "03418550170857508052"
     },
     "user_tz": -420
    },
    "id": "ujdku9UdIQXQ",
    "outputId": "81d5851f-da63-4762-f515-d8f67a381641"
   },
   "outputs": [
    {
     "name": "stdout",
     "output_type": "stream",
     "text": [
      "Go to this URL in a browser: https://accounts.google.com/o/oauth2/auth?client_id=947318989803-6bn6qk8qdgf4n4g3pfee6491hc0brc4i.apps.googleusercontent.com&redirect_uri=urn%3Aietf%3Awg%3Aoauth%3A2.0%3Aoob&scope=email%20https%3A%2F%2Fwww.googleapis.com%2Fauth%2Fdocs.test%20https%3A%2F%2Fwww.googleapis.com%2Fauth%2Fdrive%20https%3A%2F%2Fwww.googleapis.com%2Fauth%2Fdrive.photos.readonly%20https%3A%2F%2Fwww.googleapis.com%2Fauth%2Fpeopleapi.readonly&response_type=code\n",
      "\n",
      "Enter your authorization code:\n",
      "··········\n",
      "Mounted at /content/drive\n"
     ]
    }
   ],
   "source": [
    "from google.colab import drive\n",
    "drive.mount('/content/drive', force_remount=True)"
   ]
  },
  {
   "cell_type": "code",
   "execution_count": 2,
   "metadata": {
    "colab": {
     "base_uri": "https://localhost:8080/",
     "height": 35
    },
    "colab_type": "code",
    "executionInfo": {
     "elapsed": 2463,
     "status": "ok",
     "timestamp": 1571094153615,
     "user": {
      "displayName": "Tu Ngo",
      "photoUrl": "",
      "userId": "03418550170857508052"
     },
     "user_tz": -420
    },
    "id": "U0cXBXoFI5V1",
    "outputId": "8ba4d0be-0ee7-4c77-bea8-41978f086e10"
   },
   "outputs": [
    {
     "name": "stdout",
     "output_type": "stream",
     "text": [
      "/content/drive/My Drive/Colab Notebooks/machine_translation\n"
     ]
    }
   ],
   "source": [
    "cd 'drive/My Drive/Colab Notebooks/machine_translation'"
   ]
  },
  {
   "cell_type": "code",
   "execution_count": 0,
   "metadata": {
    "colab": {},
    "colab_type": "code",
    "id": "04wloRvxJnZC"
   },
   "outputs": [],
   "source": [
    "from dataset import MTDataset\n",
    "from model import Encoder, Decoder\n",
    "from language import Language\n",
    "from utils import preprocess\n",
    "from train import train\n",
    "from eval import validate\n",
    "from translate import translate"
   ]
  },
  {
   "cell_type": "code",
   "execution_count": 0,
   "metadata": {
    "colab": {},
    "colab_type": "code",
    "id": "H4ikOy3wh-MW"
   },
   "outputs": [],
   "source": [
    "sentences_inp_train, sentences_trg_train = preprocess('datasets/train/train.en', 'datasets/train/train.vi', max_len=20)\n",
    "sentences_inp_val, sentences_trg_val = preprocess('datasets/dev/tst2012.en', 'datasets/dev/tst2012.vi', max_len=20)"
   ]
  },
  {
   "cell_type": "code",
   "execution_count": 0,
   "metadata": {
    "colab": {},
    "colab_type": "code",
    "id": "nf7zXMP8J3zv"
   },
   "outputs": [],
   "source": [
    "train_inp = Language(sentences_inp_train)\n",
    "train_trg = Language(sentences_trg_train)"
   ]
  },
  {
   "cell_type": "code",
   "execution_count": 0,
   "metadata": {
    "colab": {},
    "colab_type": "code",
    "id": "4vfxMJj69fbs"
   },
   "outputs": [],
   "source": [
    "val_inp = Language(sentences_inp_val, train=False, word2id=train_inp.word2id, id2word=train_inp.id2word)\n",
    "val_trg = Language(sentences_trg_val, train=False, word2id=train_trg.word2id, id2word=train_trg.id2word)"
   ]
  },
  {
   "cell_type": "code",
   "execution_count": 0,
   "metadata": {
    "colab": {},
    "colab_type": "code",
    "id": "QE2InnNDKDBu"
   },
   "outputs": [],
   "source": [
    "train_set = MTDataset(train_inp.wordvec, train_trg.wordvec)\n",
    "val_set = MTDataset(val_inp.wordvec, val_trg.wordvec)"
   ]
  },
  {
   "cell_type": "code",
   "execution_count": 0,
   "metadata": {
    "colab": {},
    "colab_type": "code",
    "id": "qv0We_-pKmju"
   },
   "outputs": [],
   "source": [
    "from torch.utils.data import DataLoader\n",
    "import torch\n",
    "import torch.nn as nn\n",
    "from torch.optim.lr_scheduler import StepLR"
   ]
  },
  {
   "cell_type": "code",
   "execution_count": 0,
   "metadata": {
    "colab": {},
    "colab_type": "code",
    "id": "_KMGqO4XKogV"
   },
   "outputs": [],
   "source": [
    "train_loader = DataLoader(train_set, batch_size=64, shuffle=True)\n",
    "val_loader = DataLoader(val_set, batch_size=64)"
   ]
  },
  {
   "cell_type": "code",
   "execution_count": 0,
   "metadata": {
    "colab": {},
    "colab_type": "code",
    "id": "0tLM3sGkKpkn"
   },
   "outputs": [],
   "source": [
    "Tx, Ty = train_inp.max_len, train_trg.max_len\n",
    "vocab_size_inp, vocab_size_trg = train_inp.vocab_size, train_trg.vocab_size\n",
    "embedding_dim = 256\n",
    "hidden_size = 1024"
   ]
  },
  {
   "cell_type": "code",
   "execution_count": 0,
   "metadata": {
    "colab": {},
    "colab_type": "code",
    "id": "2fTREhkn7aAb"
   },
   "outputs": [],
   "source": [
    "if torch.cuda.is_available():\n",
    "    device='cuda'\n",
    "else:\n",
    "    device='cpu'"
   ]
  },
  {
   "cell_type": "code",
   "execution_count": 0,
   "metadata": {
    "colab": {},
    "colab_type": "code",
    "id": "_7ZNOMCbLu5T"
   },
   "outputs": [],
   "source": [
    "encoder = Encoder(vocab_size_inp, embedding_dim, hidden_size).to(device=device)\n",
    "decoder = Decoder(hidden_size, vocab_size_trg, embedding_dim).to(device=device)"
   ]
  },
  {
   "cell_type": "code",
   "execution_count": 0,
   "metadata": {
    "colab": {},
    "colab_type": "code",
    "id": "63pvOPrCLAUm"
   },
   "outputs": [],
   "source": [
    "optimizer = torch.optim.Adam(params=list(encoder.parameters()) + list(decoder.parameters()))\n",
    "criterion = nn.CrossEntropyLoss()\n",
    "scheduler = StepLR(optimizer, step_size=2, gamma=0.5)"
   ]
  },
  {
   "cell_type": "code",
   "execution_count": 14,
   "metadata": {
    "colab": {
     "base_uri": "https://localhost:8080/",
     "height": 1000
    },
    "colab_type": "code",
    "executionInfo": {
     "elapsed": 7097931,
     "status": "ok",
     "timestamp": 1571101289056,
     "user": {
      "displayName": "Tu Ngo",
      "photoUrl": "",
      "userId": "03418550170857508052"
     },
     "user_tz": -420
    },
    "id": "4S91UkprxKtR",
    "outputId": "50405ce2-76e9-4eba-ad19-1fbd340d4d51"
   },
   "outputs": [
    {
     "name": "stdout",
     "output_type": "stream",
     "text": [
      "Epoch  1\n",
      "Iter 0, loss = 9.005056\n",
      "Iter 200, loss = 2.832219\n",
      "Iter 400, loss = 2.161599\n",
      "Iter 600, loss = 2.072055\n",
      "Iter 800, loss = 2.183336\n",
      "Iter 1000, loss = 1.953040\n",
      "Validation BLEU score: 0.110472\n",
      "\n",
      "Epoch  2\n",
      "Iter 0, loss = 1.553245\n",
      "Iter 200, loss = 1.450432\n",
      "Iter 400, loss = 1.463465\n",
      "Iter 600, loss = 1.509131\n",
      "Iter 800, loss = 1.661497\n",
      "Iter 1000, loss = 1.494548\n",
      "Validation BLEU score: 0.138041\n",
      "\n",
      "Epoch  3\n",
      "Iter 0, loss = 1.073714\n",
      "Iter 200, loss = 0.982473\n",
      "Iter 400, loss = 0.938613\n",
      "Iter 600, loss = 1.045970\n",
      "Iter 800, loss = 1.044115\n",
      "Iter 1000, loss = 1.120787\n",
      "Validation BLEU score: 0.157240\n",
      "\n",
      "Epoch  4\n",
      "Iter 0, loss = 0.747102\n",
      "Iter 200, loss = 0.649947\n",
      "Iter 400, loss = 0.648416\n",
      "Iter 600, loss = 0.731301\n",
      "Iter 800, loss = 0.729189\n",
      "Iter 1000, loss = 0.672074\n",
      "Validation BLEU score: 0.157583\n",
      "\n",
      "Epoch  5\n",
      "Iter 0, loss = 0.427079\n",
      "Iter 200, loss = 0.404889\n",
      "Iter 400, loss = 0.375883\n",
      "Iter 600, loss = 0.342018\n",
      "Iter 800, loss = 0.421010\n",
      "Iter 1000, loss = 0.396873\n",
      "Validation BLEU score: 0.154613\n",
      "\n",
      "Epoch  6\n",
      "Iter 0, loss = 0.248889\n",
      "Iter 200, loss = 0.210372\n",
      "Iter 400, loss = 0.238896\n",
      "Iter 600, loss = 0.240338\n",
      "Iter 800, loss = 0.273934\n",
      "Iter 1000, loss = 0.279463\n",
      "Validation BLEU score: 0.155281\n",
      "\n",
      "Epoch  7\n",
      "Iter 0, loss = 0.123383\n",
      "Iter 200, loss = 0.131666\n",
      "Iter 400, loss = 0.136402\n",
      "Iter 600, loss = 0.142925\n",
      "Iter 800, loss = 0.133448\n",
      "Iter 1000, loss = 0.155486\n",
      "Validation BLEU score: 0.153768\n",
      "\n",
      "Epoch  8\n",
      "Iter 0, loss = 0.086204\n",
      "Iter 200, loss = 0.077821\n",
      "Iter 400, loss = 0.076827\n",
      "Iter 600, loss = 0.081094\n",
      "Iter 800, loss = 0.106093\n",
      "Iter 1000, loss = 0.102409\n",
      "Validation BLEU score: 0.153652\n",
      "\n",
      "Epoch  9\n",
      "Iter 0, loss = 0.063651\n",
      "Iter 200, loss = 0.048124\n",
      "Iter 400, loss = 0.051989\n",
      "Iter 600, loss = 0.057838\n",
      "Iter 800, loss = 0.056169\n",
      "Iter 1000, loss = 0.069033\n",
      "Validation BLEU score: 0.150720\n",
      "\n",
      "Epoch  10\n",
      "Iter 0, loss = 0.033596\n",
      "Iter 200, loss = 0.041813\n",
      "Iter 400, loss = 0.043144\n",
      "Iter 600, loss = 0.036493\n",
      "Iter 800, loss = 0.043718\n",
      "Iter 1000, loss = 0.053935\n",
      "Validation BLEU score: 0.148495\n",
      "\n"
     ]
    }
   ],
   "source": [
    "train(encoder, decoder, train_loader, val_loader, optimizer, criterion, train_trg.id2word, scheduler, 10, 200, device)"
   ]
  },
  {
   "cell_type": "code",
   "execution_count": 0,
   "metadata": {
    "colab": {},
    "colab_type": "code",
    "id": "PDS1mhEDNBVE"
   },
   "outputs": [],
   "source": [
    "torch.save(encoder.state_dict(), 'encoder.pth')\n",
    "torch.save(decoder.state_dict(), 'decoder.pth')"
   ]
  },
  {
   "cell_type": "code",
   "execution_count": 0,
   "metadata": {
    "colab": {},
    "colab_type": "code",
    "id": "6B8rUvbYPqom"
   },
   "outputs": [],
   "source": [
    "import string\n",
    "exclude = list(string.punctuation) + list(string.digits)\n",
    "test_sen = 'hello i am a student'\n",
    "test_sen = ''.join([char for char in test_sen if char not in exclude]).strip().lower()\n",
    "test_sen = '<START> ' + test_sen + ' <END>'\n",
    "length = len(test_sen.split())\n",
    "diff = train_inp.max_len -length\n",
    "test_sen = test_sen + ''.join([' <PAD>']*diff)"
   ]
  },
  {
   "cell_type": "code",
   "execution_count": 0,
   "metadata": {
    "colab": {},
    "colab_type": "code",
    "id": "p72P3TAzZSaq"
   },
   "outputs": [],
   "source": [
    "test_vec = [train_inp.word2id[s] for s in test_sen.split()]\n",
    "test_tensor = torch.Tensor(test_vec).to(device='cuda', dtype=torch.long).unsqueeze(0)"
   ]
  },
  {
   "cell_type": "code",
   "execution_count": 54,
   "metadata": {
    "colab": {
     "base_uri": "https://localhost:8080/",
     "height": 146
    },
    "colab_type": "code",
    "executionInfo": {
     "elapsed": 1393,
     "status": "ok",
     "timestamp": 1571101908203,
     "user": {
      "displayName": "Tu Ngo",
      "photoUrl": "",
      "userId": "03418550170857508052"
     },
     "user_tz": -420
    },
    "id": "wptna1vJFqm1",
    "outputId": "f6b9df75-b17a-4515-a44a-17746275b102"
   },
   "outputs": [
    {
     "name": "stdout",
     "output_type": "stream",
     "text": [
      "xin\n",
      "chào\n",
      "tôi\n",
      "là\n",
      "một\n",
      "sinh\n",
      "viên\n"
     ]
    }
   ],
   "source": [
    "with torch.no_grad():\n",
    "    encoder.eval()\n",
    "    decoder.eval()\n",
    "    enc_out, enc_hidden_backward, enc_hidden_forward = encoder(test_tensor)\n",
    "    dec_hidden = enc_hidden_backward\n",
    "    dec_input = torch.Tensor([train_trg.word2id['<START>']]).to(device='cuda', dtype=torch.long)\n",
    "    for t in range(1, Ty):\n",
    "        out, dec_hidden = decoder(dec_input, dec_hidden, enc_out)\n",
    "        dec_input = torch.max(out, dim=-1)[1].squeeze(1)\n",
    "        next_id = dec_input.squeeze().clone().cpu().numpy()\n",
    "        next_word = train_trg.id2word[next_id]\n",
    "        if next_word == '<END>':\n",
    "            break\n",
    "        print(next_word)"
   ]
  },
  {
   "cell_type": "code",
   "execution_count": 58,
   "metadata": {
    "colab": {
     "base_uri": "https://localhost:8080/",
     "height": 35
    },
    "colab_type": "code",
    "executionInfo": {
     "elapsed": 984,
     "status": "ok",
     "timestamp": 1571101934967,
     "user": {
      "displayName": "Tu Ngo",
      "photoUrl": "",
      "userId": "03418550170857508052"
     },
     "user_tz": -420
    },
    "id": "VScUEWDVF4mU",
    "outputId": "79f53cde-c983-4e74-eba1-a4411116bd1d"
   },
   "outputs": [
    {
     "data": {
      "text/plain": [
       "'tôi là một sinh viên'"
      ]
     },
     "execution_count": 58,
     "metadata": {
      "tags": []
     },
     "output_type": "execute_result"
    }
   ],
   "source": [
    "translate('i am a student', train_inp.word2id, train_trg.word2id, train_trg.id2word, encoder, decoder, 20, device)"
   ]
  },
  {
   "cell_type": "code",
   "execution_count": 40,
   "metadata": {
    "colab": {
     "base_uri": "https://localhost:8080/",
     "height": 35
    },
    "colab_type": "code",
    "executionInfo": {
     "elapsed": 998,
     "status": "ok",
     "timestamp": 1571101839918,
     "user": {
      "displayName": "Tu Ngo",
      "photoUrl": "",
      "userId": "03418550170857508052"
     },
     "user_tz": -420
    },
    "id": "YkMTdDhDHFca",
    "outputId": "36d83832-e567-4645-bbe8-0e8ee6bb3393"
   },
   "outputs": [
    {
     "data": {
      "text/plain": [
       "<All keys matched successfully>"
      ]
     },
     "execution_count": 40,
     "metadata": {
      "tags": []
     },
     "output_type": "execute_result"
    }
   ],
   "source": [
    "decoder.load_state_dict(torch.load('decoder.pth'))"
   ]
  },
  {
   "cell_type": "code",
   "execution_count": 48,
   "metadata": {
    "colab": {
     "base_uri": "https://localhost:8080/",
     "height": 35
    },
    "colab_type": "code",
    "executionInfo": {
     "elapsed": 1164,
     "status": "ok",
     "timestamp": 1571101893438,
     "user": {
      "displayName": "Tu Ngo",
      "photoUrl": "",
      "userId": "03418550170857508052"
     },
     "user_tz": -420
    },
    "id": "coj-UaVZOAza",
    "outputId": "080e89c0-b898-4f45-99db-4946fea8b47b"
   },
   "outputs": [
    {
     "data": {
      "text/plain": [
       "'worker'"
      ]
     },
     "execution_count": 48,
     "metadata": {
      "tags": []
     },
     "output_type": "execute_result"
    }
   ],
   "source": [
    "train_inp.id2word[4112]"
   ]
  },
  {
   "cell_type": "code",
   "execution_count": 0,
   "metadata": {
    "colab": {},
    "colab_type": "code",
    "id": "kFBGgzqpOvn-"
   },
   "outputs": [],
   "source": [
    "train_trg.sentences[0]"
   ]
  },
  {
   "cell_type": "code",
   "execution_count": 0,
   "metadata": {
    "colab": {},
    "colab_type": "code",
    "id": "hBVduzaCPEZM"
   },
   "outputs": [],
   "source": [
    "from nltk.translate.bleu_score import corpus_bleu, SmoothingFunction"
   ]
  },
  {
   "cell_type": "code",
   "execution_count": 0,
   "metadata": {
    "colab": {},
    "colab_type": "code",
    "id": "G-HM_0yAPZhw"
   },
   "outputs": [],
   "source": [
    "ref, hyp, bleu = validate()"
   ]
  },
  {
   "cell_type": "code",
   "execution_count": 0,
   "metadata": {
    "colab": {},
    "colab_type": "code",
    "id": "sbg_duyXAknu"
   },
   "outputs": [],
   "source": [
    "hyp[0]"
   ]
  },
  {
   "cell_type": "code",
   "execution_count": 0,
   "metadata": {
    "colab": {},
    "colab_type": "code",
    "id": "Q5GMlK9KY7mf"
   },
   "outputs": [],
   "source": [
    "ref1 = 'the cat is on the mat'.split()\n",
    "ref2 = 'there is a cat on the mat'.split()\n",
    "hyp = 'the cat the cat on the mat'.split()"
   ]
  },
  {
   "cell_type": "code",
   "execution_count": 0,
   "metadata": {
    "colab": {},
    "colab_type": "code",
    "id": "8obhTTHsZLB6"
   },
   "outputs": [],
   "source": [
    "corpus_bleu([[ref1, ref2]], [hyp])"
   ]
  },
  {
   "cell_type": "code",
   "execution_count": 0,
   "metadata": {
    "colab": {},
    "colab_type": "code",
    "id": "OTMrRw4tqeTs"
   },
   "outputs": [],
   "source": [
    "ref3 = 'i am student ngo anh tu'.split()\n",
    "ref4 = 'my name is student ngo anh tu'.split()\n",
    "hyp2 = 'there is a student ngo anh tu'.split()"
   ]
  },
  {
   "cell_type": "code",
   "execution_count": 0,
   "metadata": {
    "colab": {},
    "colab_type": "code",
    "id": "RZmUtxvDug4R"
   },
   "outputs": [],
   "source": [
    "corpus_bleu([[ref1, ref2], [ref3, ref4]], [hyp, hyp2])"
   ]
  },
  {
   "cell_type": "code",
   "execution_count": 0,
   "metadata": {
    "colab": {},
    "colab_type": "code",
    "id": "OUrubo7aui9r"
   },
   "outputs": [],
   "source": [
    "sentence_bleu([ref1, ref2], hyp)"
   ]
  },
  {
   "cell_type": "code",
   "execution_count": 0,
   "metadata": {
    "colab": {},
    "colab_type": "code",
    "id": "v5il6ZDmvNIq"
   },
   "outputs": [],
   "source": [
    "sentence_bleu([ref3, ref4], hyp2)"
   ]
  },
  {
   "cell_type": "code",
   "execution_count": 0,
   "metadata": {
    "colab": {},
    "colab_type": "code",
    "id": "8FHtnAJ0vPn9"
   },
   "outputs": [],
   "source": [
    "validate()"
   ]
  }
 ],
 "metadata": {
  "accelerator": "GPU",
  "colab": {
   "collapsed_sections": [],
   "name": "machine_translation.ipynb",
   "provenance": []
  },
  "kernelspec": {
   "display_name": "Python 3",
   "language": "python",
   "name": "python3"
  },
  "language_info": {
   "codemirror_mode": {
    "name": "ipython",
    "version": 3
   },
   "file_extension": ".py",
   "mimetype": "text/x-python",
   "name": "python",
   "nbconvert_exporter": "python",
   "pygments_lexer": "ipython3",
   "version": "3.7.3"
  }
 },
 "nbformat": 4,
 "nbformat_minor": 1
}
